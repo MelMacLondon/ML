{
  "nbformat": 4,
  "nbformat_minor": 0,
  "metadata": {
    "colab": {
      "provenance": [],
      "authorship_tag": "ABX9TyNjwPWiF4BfsvHQA2ZjpTPF",
      "include_colab_link": true
    },
    "kernelspec": {
      "name": "python3",
      "display_name": "Python 3"
    },
    "language_info": {
      "name": "python"
    }
  },
  "cells": [
    {
      "cell_type": "markdown",
      "metadata": {
        "id": "view-in-github",
        "colab_type": "text"
      },
      "source": [
        "<a href=\"https://colab.research.google.com/github/MelMacLondon/ML/blob/main/HyperParameter_Optimization_20250720.ipynb\" target=\"_parent\"><img src=\"https://colab.research.google.com/assets/colab-badge.svg\" alt=\"Open In Colab\"/></a>"
      ]
    },
    {
      "cell_type": "markdown",
      "source": [
        "https://www.geeksforgeeks.org/machine-learning/hyperparameter-optimization-based-on-bayesian-optimization/\n",
        "\n",
        "\n"
      ],
      "metadata": {
        "id": "GX9aqZRQzSMP"
      }
    },
    {
      "cell_type": "code",
      "execution_count": 1,
      "metadata": {
        "colab": {
          "base_uri": "https://localhost:8080/"
        },
        "id": "KE1lOfooy-0l",
        "outputId": "1c020dbf-cdda-41bc-d1a1-4130c4526e81"
      },
      "outputs": [
        {
          "output_type": "stream",
          "name": "stdout",
          "text": [
            "Collecting scikit-optimize\n",
            "  Downloading scikit_optimize-0.10.2-py2.py3-none-any.whl.metadata (9.7 kB)\n",
            "Requirement already satisfied: joblib>=0.11 in /usr/local/lib/python3.11/dist-packages (from scikit-optimize) (1.5.1)\n",
            "Collecting pyaml>=16.9 (from scikit-optimize)\n",
            "  Downloading pyaml-25.7.0-py3-none-any.whl.metadata (12 kB)\n",
            "Requirement already satisfied: numpy>=1.20.3 in /usr/local/lib/python3.11/dist-packages (from scikit-optimize) (2.0.2)\n",
            "Requirement already satisfied: scipy>=1.1.0 in /usr/local/lib/python3.11/dist-packages (from scikit-optimize) (1.15.3)\n",
            "Requirement already satisfied: scikit-learn>=1.0.0 in /usr/local/lib/python3.11/dist-packages (from scikit-optimize) (1.6.1)\n",
            "Requirement already satisfied: packaging>=21.3 in /usr/local/lib/python3.11/dist-packages (from scikit-optimize) (25.0)\n",
            "Requirement already satisfied: PyYAML in /usr/local/lib/python3.11/dist-packages (from pyaml>=16.9->scikit-optimize) (6.0.2)\n",
            "Requirement already satisfied: threadpoolctl>=3.1.0 in /usr/local/lib/python3.11/dist-packages (from scikit-learn>=1.0.0->scikit-optimize) (3.6.0)\n",
            "Downloading scikit_optimize-0.10.2-py2.py3-none-any.whl (107 kB)\n",
            "\u001b[2K   \u001b[90m━━━━━━━━━━━━━━━━━━━━━━━━━━━━━━━━━━━━━━━━\u001b[0m \u001b[32m107.8/107.8 kB\u001b[0m \u001b[31m2.6 MB/s\u001b[0m eta \u001b[36m0:00:00\u001b[0m\n",
            "\u001b[?25hDownloading pyaml-25.7.0-py3-none-any.whl (26 kB)\n",
            "Installing collected packages: pyaml, scikit-optimize\n",
            "Successfully installed pyaml-25.7.0 scikit-optimize-0.10.2\n"
          ]
        }
      ],
      "source": [
        "pip install scikit-optimize\n"
      ]
    },
    {
      "cell_type": "code",
      "source": [
        "import numpy as np\n",
        "import pandas as pd\n",
        "import gc\n",
        "import warnings\n",
        "import matplotlib.pyplot as plt\n",
        "from sklearn.datasets import load_breast_cancer\n",
        "from sklearn.model_selection import train_test_split, cross_val_score\n",
        "from sklearn.svm import SVC\n",
        "from sklearn.preprocessing import StandardScaler\n",
        "from sklearn.metrics import confusion_matrix, make_scorer, accuracy_score, recall_score, f1_score\n",
        "from datetime import timedelta\n",
        "import time\n",
        "from skopt import BayesSearchCV"
      ],
      "metadata": {
        "id": "S4n7eFDTzFtI"
      },
      "execution_count": 2,
      "outputs": []
    },
    {
      "cell_type": "markdown",
      "source": [
        "Load the Dataset and Extract Train Test Split\n",
        "Sometimes dual coefficients or intercepts are not finite and this arises generally in SVMs and leads to the model running for an indefinite amount of time. To address this issue prepocessing of data is necessary. Here we have used the Scaling technique to normalize the data so that they have a similar range."
      ],
      "metadata": {
        "id": "iTaNtvkVzMnQ"
      }
    },
    {
      "cell_type": "code",
      "source": [
        "X, y = load_breast_cancer(return_X_y=True)\n",
        "X_train, X_test, y_train, y_test = train_test_split(X, y, test_size=0.2, stratify=y, random_state=1234)\n",
        "scaler = StandardScaler()\n",
        "\n",
        "# Fit the scaler on training data and transform both training and test data\n",
        "X_train = scaler.fit_transform(X_train)\n",
        "X_test = scaler.transform(X_test)"
      ],
      "metadata": {
        "id": "AFK_ztaMzGvY"
      },
      "execution_count": 3,
      "outputs": []
    },
    {
      "cell_type": "code",
      "source": [
        "# Training a Machine Learning Model\n",
        "\n",
        "start_time = time.time()\n",
        "svc_model = SVC(kernel='rbf')\n",
        "svc_model.fit(X_train, y_train)\n",
        "\n",
        "elapsed_time_secs = time.time() - start_time\n",
        "msg = 'Execution took: %s secs (Wall clock time)' % timedelta(seconds=round(elapsed_time_secs))\n",
        "\n",
        "\n",
        "svc_pred = svc_model.predict(X_test)\n",
        "\n",
        "print('Train Accuracy', accuracy_score(y_train, svc_model.predict(X_train)))\n",
        "print('Test Accuracy', accuracy_score(y_test, svc_model.predict(X_test)))\n",
        "\n",
        "print('\\n')\n",
        "\n",
        "print('Train Recall Score', recall_score(y_train, svc_model.predict(X_train)))\n",
        "print('Test Recall Score', recall_score(y_test, svc_model.predict(X_test)))\n",
        "\n",
        "print('\\n')\n",
        "\n",
        "print('Train F1 Score', f1_score(y_train, svc_model.predict(X_train)))\n",
        "print('Test F1 Score', f1_score(y_test, svc_model.predict(X_test)))\n",
        "\n"
      ],
      "metadata": {
        "colab": {
          "base_uri": "https://localhost:8080/"
        },
        "id": "vmXDFAWdzayw",
        "outputId": "c8d04140-4f68-4afb-872b-f21adee2d5c3"
      },
      "execution_count": 4,
      "outputs": [
        {
          "output_type": "stream",
          "name": "stdout",
          "text": [
            "Train Accuracy 0.989010989010989\n",
            "Test Accuracy 0.9824561403508771\n",
            "\n",
            "\n",
            "Train Recall Score 1.0\n",
            "Test Recall Score 1.0\n",
            "\n",
            "\n",
            "Train F1 Score 0.991304347826087\n",
            "Test F1 Score 0.9863013698630136\n"
          ]
        }
      ]
    },
    {
      "cell_type": "code",
      "source": [
        "# Define Hyperparameter Search Space\n",
        "\n",
        "param_space = {\n",
        "    'C': (1e-6, 1e+6, 'log-uniform'),\n",
        "    'gamma': (1e-6, 1e+1, 'log-uniform'),\n",
        "    'degree': (1, 8),  # integer valued parameter\n",
        "    'kernel': ['linear', 'poly', 'rbf'],  # categorical parameter\n",
        "}"
      ],
      "metadata": {
        "id": "DxQ-7RJkzoT3"
      },
      "execution_count": 5,
      "outputs": []
    },
    {
      "cell_type": "code",
      "source": [
        "# Bayesian Optimization\n",
        "# Initialize Bayesian Optimization\n",
        "opt = BayesSearchCV(\n",
        "    SVC(),\n",
        "    param_space,\n",
        "    n_iter=32,\n",
        "    cv=3\n",
        ")"
      ],
      "metadata": {
        "id": "ObXAeq_Mz6F1"
      },
      "execution_count": 6,
      "outputs": []
    },
    {
      "cell_type": "code",
      "source": [
        "# Run Bayesian Optimization\n",
        "\n",
        "opt.fit(X_train, y_train)\n",
        "\n",
        "print('val. score: %s' % opt.best_score_)\n",
        "print('test score: %s' % opt.score(X_test, y_test))\n",
        "\n",
        "# Get best hyperparameters\n",
        "best_params = opt.best_params_\n",
        "print('Best Parameters:', best_params)"
      ],
      "metadata": {
        "colab": {
          "base_uri": "https://localhost:8080/"
        },
        "id": "3oNeD-B80Ag2",
        "outputId": "a0a22127-db3b-4684-9df6-fcb6b940143d"
      },
      "execution_count": 8,
      "outputs": [
        {
          "output_type": "stream",
          "name": "stdout",
          "text": [
            "val. score: 0.9692256303009179\n",
            "test score: 0.9824561403508771\n",
            "Best Parameters: OrderedDict([('C', 16.578161672333977), ('degree', 1), ('gamma', 0.004473306916630009), ('kernel', 'rbf')])\n"
          ]
        }
      ]
    },
    {
      "cell_type": "code",
      "source": [
        "# Get best hyperparameters\n",
        "best_params = opt.best_params_\n",
        "\n",
        "# Create an SVM classifier with the best parameters\n",
        "best_svc_model = SVC(**best_params)\n",
        "\n",
        "# Fit the classifier on the training data\n",
        "best_svc_model.fit(X_train, y_train)\n",
        "\n",
        "# Predict on the test data\n",
        "best_svc_pred = best_svc_model.predict(X_test)\n",
        "\n",
        "# Evaluate the performance of the model\n",
        "print('Train Accuracy with best parameters:', accuracy_score(y_train, best_svc_model.predict(X_train)))\n",
        "print('Test Accuracy with best parameters:', accuracy_score(y_test, best_svc_pred))\n",
        "\n",
        "print('\\n')\n",
        "\n",
        "print('Train Recall Score with best parameters:', recall_score(y_train, best_svc_model.predict(X_train)))\n",
        "print('Test Recall Score with best parameters:', recall_score(y_test, best_svc_pred))\n",
        "\n",
        "print('\\n')\n",
        "\n",
        "print('Train F1 Score with best parameters:', f1_score(y_train, best_svc_model.predict(X_train)))\n",
        "print('Test F1 Score with best parameters:', f1_score(y_test, best_svc_pred))"
      ],
      "metadata": {
        "colab": {
          "base_uri": "https://localhost:8080/"
        },
        "id": "z_u0dnEU0D4s",
        "outputId": "ac13f7a5-7e35-4464-f078-c5fae7dd6cb2"
      },
      "execution_count": 9,
      "outputs": [
        {
          "output_type": "stream",
          "name": "stdout",
          "text": [
            "Train Accuracy with best parameters: 0.9868131868131869\n",
            "Test Accuracy with best parameters: 0.9824561403508771\n",
            "\n",
            "\n",
            "Train Recall Score with best parameters: 0.9929824561403509\n",
            "Test Recall Score with best parameters: 1.0\n",
            "\n",
            "\n",
            "Train F1 Score with best parameters: 0.9895104895104895\n",
            "Test F1 Score with best parameters: 0.9863013698630136\n"
          ]
        }
      ]
    },
    {
      "cell_type": "code",
      "source": [
        "print (best_svc_model.get_params)"
      ],
      "metadata": {
        "colab": {
          "base_uri": "https://localhost:8080/"
        },
        "id": "D2Mc61730aWC",
        "outputId": "db1a2563-9a6e-4351-cc31-8bdee7a343f9"
      },
      "execution_count": 10,
      "outputs": [
        {
          "output_type": "stream",
          "name": "stdout",
          "text": [
            "<bound method BaseEstimator.get_params of SVC(C=16.578161672333977, degree=1, gamma=0.004473306916630009)>\n"
          ]
        }
      ]
    },
    {
      "cell_type": "code",
      "source": [
        "# Implementing SVM with Best Hyperparameters\n",
        "\n",
        "# Get best hyperparameters\n",
        "best_params = opt.best_params_\n",
        "\n",
        "# Create an SVM classifier with the best parameters\n",
        "best_svc_model = SVC(**best_params)\n",
        "\n",
        "# Fit the classifier on the training data\n",
        "best_svc_model.fit(X_train, y_train)\n",
        "\n",
        "# Predict on the test data\n",
        "best_svc_pred = best_svc_model.predict(X_test)\n",
        "\n",
        "# Evaluate the performance of the model\n",
        "print('Train Accuracy with best parameters:', accuracy_score(y_train, best_svc_model.predict(X_train)))\n",
        "print('Test Accuracy with best parameters:', accuracy_score(y_test, best_svc_pred))\n",
        "\n",
        "print('\\n')\n",
        "\n",
        "print('Train Recall Score with best parameters:', recall_score(y_train, best_svc_model.predict(X_train)))\n",
        "print('Test Recall Score with best parameters:', recall_score(y_test, best_svc_pred))\n",
        "\n",
        "print('\\n')\n",
        "\n",
        "print('Train F1 Score with best parameters:', f1_score(y_train, best_svc_model.predict(X_train)))\n",
        "print('Test F1 Score with best parameters:', f1_score(y_test, best_svc_pred))\n",
        "\n"
      ],
      "metadata": {
        "colab": {
          "base_uri": "https://localhost:8080/"
        },
        "id": "Uqi8CMCx0hDd",
        "outputId": "05c5b834-d002-4d31-d6eb-6d636b009b4f"
      },
      "execution_count": 12,
      "outputs": [
        {
          "output_type": "stream",
          "name": "stdout",
          "text": [
            "Train Accuracy with best parameters: 0.9868131868131869\n",
            "Test Accuracy with best parameters: 0.9824561403508771\n",
            "\n",
            "\n",
            "Train Recall Score with best parameters: 0.9929824561403509\n",
            "Test Recall Score with best parameters: 1.0\n",
            "\n",
            "\n",
            "Train F1 Score with best parameters: 0.9895104895104895\n",
            "Test F1 Score with best parameters: 0.9863013698630136\n"
          ]
        }
      ]
    },
    {
      "cell_type": "code",
      "source": [],
      "metadata": {
        "id": "St2F1E3q0qS7"
      },
      "execution_count": null,
      "outputs": []
    }
  ]
}