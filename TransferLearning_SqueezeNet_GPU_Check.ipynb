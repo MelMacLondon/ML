{
  "cells": [
    {
      "cell_type": "markdown",
      "metadata": {
        "id": "view-in-github",
        "colab_type": "text"
      },
      "source": [
        "<a href=\"https://colab.research.google.com/github/MelMacLondon/ML/blob/main/TransferLearning_SqueezeNet_GPU_Check.ipynb\" target=\"_parent\"><img src=\"https://colab.research.google.com/assets/colab-badge.svg\" alt=\"Open In Colab\"/></a>"
      ]
    },
    {
      "cell_type": "markdown",
      "id": "8cff3dd5",
      "metadata": {
        "id": "8cff3dd5"
      },
      "source": [
        "\n",
        "# Practical: Working with Pretrained Models\n",
        "This practical introduces transfer learning with SqueezeNet, a lightweight convolutional neural network architecture designed to achieve AlexNet-level accuracy on ImageNet with 50× fewer parameters. SqueezeNet was trained on the large-scale ImageNet dataset, which contains over a million labeled images across 1,000 classes. By reusing these pretrained weights, we avoid the need to train a deep network from scratch – a process that would otherwise require extensive data, long training times, and significant computational resources.\n",
        "\n",
        "The key advantage of using a pretrained model is that its early convolutional layers have already learned general visual features such as edges, textures, and simple shapes. These representations transfer well to new tasks, even when the target dataset is much smaller. This reduces training time, improves generalisation, and makes it feasible to achieve strong results with limited resources.\n",
        "\n",
        "In this exercise, we will adapt SqueezeNet to the CIFAR dataset by loading the pretrained backbone, modifying the classifier head, and then training this head to establish a strong feature-extraction baseline. We will then fine-tune the model by unfreezing selected backbone layers and optimising with retraining.\n",
        "\n",
        "\n"
      ]
    },
    {
      "cell_type": "markdown",
      "id": "30901f12",
      "metadata": {
        "id": "30901f12"
      },
      "source": [
        "First, let's import the required packages"
      ]
    },
    {
      "cell_type": "code",
      "execution_count": 27,
      "id": "4670a4f0",
      "metadata": {
        "id": "4670a4f0"
      },
      "outputs": [],
      "source": [
        "import torch\n",
        "from torch import nn\n",
        "from torch.utils.data import DataLoader, Subset\n",
        "from torchvision import datasets, transforms, models\n",
        "import matplotlib.pyplot as plt\n",
        "from collections import defaultdict\n",
        "import numpy as np\n",
        "from tqdm import tqdm"
      ]
    },
    {
      "cell_type": "markdown",
      "id": "0663ab2e",
      "metadata": {
        "id": "0663ab2e"
      },
      "source": [
        "Although CIFAR10 is small compared to other datasets, it is still time consuming to train a model on the entire dataset. As such, we will only be using a subset of the data to train our model, similar to what we did in the previous practical. Run the code below to define the function we will use to created a balanced subset of the dataset. For our fine-tuning, we will be using 500 samples per class."
      ]
    },
    {
      "cell_type": "code",
      "execution_count": 28,
      "id": "9222d9c7",
      "metadata": {
        "id": "9222d9c7"
      },
      "outputs": [],
      "source": [
        "def create_balanced_subset(dataset, samples_per_class=500):\n",
        "    \"\"\"Create a subset with equal number of samples per class\"\"\"\n",
        "    targets = np.array(dataset.targets)\n",
        "    indices = []\n",
        "\n",
        "    for class_idx in range(10):                            # CIFAR10 has 10 classes\n",
        "        class_indices = np.where(targets == class_idx)[0]\n",
        "        selected = np.random.choice(class_indices, samples_per_class, replace=False)\n",
        "        indices.extend(selected)\n",
        "\n",
        "    return Subset(dataset, indices)"
      ]
    },
    {
      "cell_type": "markdown",
      "id": "7a52c9f0",
      "metadata": {
        "id": "7a52c9f0"
      },
      "source": [
        "**Q1)** When using a pretrained model, the input data must be normalised with the same statistics as the data on which the model was originally trained. Create a transform called `transform` that performs the following steps:\n",
        "\n",
        "1. Convert images to tensors.\n",
        "\n",
        "2. Normalise each channel using the parameters:\n",
        "\n",
        "* Mean = (0.485, 0.456, 0.406)\n",
        "\n",
        "* Standard deviation = (0.229, 0.224, 0.225)\n"
      ]
    },
    {
      "cell_type": "code",
      "execution_count": 29,
      "id": "5fc20fbd",
      "metadata": {
        "id": "5fc20fbd"
      },
      "outputs": [],
      "source": [
        "transform = transforms.Compose([\n",
        "    transforms.ToTensor(),\n",
        "    transforms.Normalize((0.485, 0.456, 0.406),\n",
        "                         (0.229, 0.224, 0.225))\n",
        "])"
      ]
    },
    {
      "cell_type": "markdown",
      "id": "cf8e3728",
      "metadata": {
        "id": "cf8e3728"
      },
      "source": [
        "Run the cell below that uses the transform to create the training and test datasets and dataloaders."
      ]
    },
    {
      "cell_type": "code",
      "execution_count": 30,
      "id": "7b90c1f2",
      "metadata": {
        "id": "7b90c1f2"
      },
      "outputs": [],
      "source": [
        "# Download the data\n",
        "train_dataset = datasets.CIFAR10(root='data', train=True, download=True, transform=transform)\n",
        "test_dataset = datasets.CIFAR10(root='data', train=False, download=True, transform=transform)\n",
        "\n",
        "# Create balanced subsets\n",
        "train_subset = create_balanced_subset(train_dataset, samples_per_class=500)  # 5000 total\n",
        "test_subset = create_balanced_subset(test_dataset, samples_per_class=100)    # 1000 total\n",
        "\n",
        "# Class names for CIFAR10\n",
        "class_names = ['airplane', 'automobile', 'bird', 'cat', 'deer', 'dog', 'frog', 'horse', 'ship', 'truck']\n",
        "train_loader = DataLoader(train_subset, batch_size=128, shuffle=True)\n",
        "test_loader = DataLoader(test_subset, batch_size=256, shuffle=False)"
      ]
    },
    {
      "cell_type": "markdown",
      "id": "c5f31c11",
      "metadata": {
        "id": "c5f31c11"
      },
      "source": [
        "**Q2)** Load and create an instance of SqueezeNet and assign it to a variable called `squeezenet`. When loading a pretrained model, we need to set the argument `weights` to the dataset that the network was pretrained on. For this our model, we will use `IMAGENET1K_V1`.\n",
        "\n",
        "The syntax for loading a pretrained model is as follows:\n",
        "\n",
        "```python\n",
        "model_instance = models.pretrained_model_name(parameters)\n",
        "```\n",
        "\n",
        "Print the model to examine its architecture."
      ]
    },
    {
      "cell_type": "code",
      "execution_count": 31,
      "id": "d6880689",
      "metadata": {
        "colab": {
          "base_uri": "https://localhost:8080/"
        },
        "id": "d6880689",
        "outputId": "0bf0f1fa-60d9-4a6c-fcf5-2f7201dad669"
      },
      "outputs": [
        {
          "output_type": "stream",
          "name": "stdout",
          "text": [
            "SqueezeNet(\n",
            "  (features): Sequential(\n",
            "    (0): Conv2d(3, 64, kernel_size=(3, 3), stride=(2, 2))\n",
            "    (1): ReLU(inplace=True)\n",
            "    (2): MaxPool2d(kernel_size=3, stride=2, padding=0, dilation=1, ceil_mode=True)\n",
            "    (3): Fire(\n",
            "      (squeeze): Conv2d(64, 16, kernel_size=(1, 1), stride=(1, 1))\n",
            "      (squeeze_activation): ReLU(inplace=True)\n",
            "      (expand1x1): Conv2d(16, 64, kernel_size=(1, 1), stride=(1, 1))\n",
            "      (expand1x1_activation): ReLU(inplace=True)\n",
            "      (expand3x3): Conv2d(16, 64, kernel_size=(3, 3), stride=(1, 1), padding=(1, 1))\n",
            "      (expand3x3_activation): ReLU(inplace=True)\n",
            "    )\n",
            "    (4): Fire(\n",
            "      (squeeze): Conv2d(128, 16, kernel_size=(1, 1), stride=(1, 1))\n",
            "      (squeeze_activation): ReLU(inplace=True)\n",
            "      (expand1x1): Conv2d(16, 64, kernel_size=(1, 1), stride=(1, 1))\n",
            "      (expand1x1_activation): ReLU(inplace=True)\n",
            "      (expand3x3): Conv2d(16, 64, kernel_size=(3, 3), stride=(1, 1), padding=(1, 1))\n",
            "      (expand3x3_activation): ReLU(inplace=True)\n",
            "    )\n",
            "    (5): MaxPool2d(kernel_size=3, stride=2, padding=0, dilation=1, ceil_mode=True)\n",
            "    (6): Fire(\n",
            "      (squeeze): Conv2d(128, 32, kernel_size=(1, 1), stride=(1, 1))\n",
            "      (squeeze_activation): ReLU(inplace=True)\n",
            "      (expand1x1): Conv2d(32, 128, kernel_size=(1, 1), stride=(1, 1))\n",
            "      (expand1x1_activation): ReLU(inplace=True)\n",
            "      (expand3x3): Conv2d(32, 128, kernel_size=(3, 3), stride=(1, 1), padding=(1, 1))\n",
            "      (expand3x3_activation): ReLU(inplace=True)\n",
            "    )\n",
            "    (7): Fire(\n",
            "      (squeeze): Conv2d(256, 32, kernel_size=(1, 1), stride=(1, 1))\n",
            "      (squeeze_activation): ReLU(inplace=True)\n",
            "      (expand1x1): Conv2d(32, 128, kernel_size=(1, 1), stride=(1, 1))\n",
            "      (expand1x1_activation): ReLU(inplace=True)\n",
            "      (expand3x3): Conv2d(32, 128, kernel_size=(3, 3), stride=(1, 1), padding=(1, 1))\n",
            "      (expand3x3_activation): ReLU(inplace=True)\n",
            "    )\n",
            "    (8): MaxPool2d(kernel_size=3, stride=2, padding=0, dilation=1, ceil_mode=True)\n",
            "    (9): Fire(\n",
            "      (squeeze): Conv2d(256, 48, kernel_size=(1, 1), stride=(1, 1))\n",
            "      (squeeze_activation): ReLU(inplace=True)\n",
            "      (expand1x1): Conv2d(48, 192, kernel_size=(1, 1), stride=(1, 1))\n",
            "      (expand1x1_activation): ReLU(inplace=True)\n",
            "      (expand3x3): Conv2d(48, 192, kernel_size=(3, 3), stride=(1, 1), padding=(1, 1))\n",
            "      (expand3x3_activation): ReLU(inplace=True)\n",
            "    )\n",
            "    (10): Fire(\n",
            "      (squeeze): Conv2d(384, 48, kernel_size=(1, 1), stride=(1, 1))\n",
            "      (squeeze_activation): ReLU(inplace=True)\n",
            "      (expand1x1): Conv2d(48, 192, kernel_size=(1, 1), stride=(1, 1))\n",
            "      (expand1x1_activation): ReLU(inplace=True)\n",
            "      (expand3x3): Conv2d(48, 192, kernel_size=(3, 3), stride=(1, 1), padding=(1, 1))\n",
            "      (expand3x3_activation): ReLU(inplace=True)\n",
            "    )\n",
            "    (11): Fire(\n",
            "      (squeeze): Conv2d(384, 64, kernel_size=(1, 1), stride=(1, 1))\n",
            "      (squeeze_activation): ReLU(inplace=True)\n",
            "      (expand1x1): Conv2d(64, 256, kernel_size=(1, 1), stride=(1, 1))\n",
            "      (expand1x1_activation): ReLU(inplace=True)\n",
            "      (expand3x3): Conv2d(64, 256, kernel_size=(3, 3), stride=(1, 1), padding=(1, 1))\n",
            "      (expand3x3_activation): ReLU(inplace=True)\n",
            "    )\n",
            "    (12): Fire(\n",
            "      (squeeze): Conv2d(512, 64, kernel_size=(1, 1), stride=(1, 1))\n",
            "      (squeeze_activation): ReLU(inplace=True)\n",
            "      (expand1x1): Conv2d(64, 256, kernel_size=(1, 1), stride=(1, 1))\n",
            "      (expand1x1_activation): ReLU(inplace=True)\n",
            "      (expand3x3): Conv2d(64, 256, kernel_size=(3, 3), stride=(1, 1), padding=(1, 1))\n",
            "      (expand3x3_activation): ReLU(inplace=True)\n",
            "    )\n",
            "  )\n",
            "  (classifier): Sequential(\n",
            "    (0): Dropout(p=0.5, inplace=False)\n",
            "    (1): Conv2d(512, 1000, kernel_size=(1, 1), stride=(1, 1))\n",
            "    (2): ReLU(inplace=True)\n",
            "    (3): AdaptiveAvgPool2d(output_size=(1, 1))\n",
            "  )\n",
            ")\n"
          ]
        }
      ],
      "source": [
        "squeezenet = models.squeezenet1_1(weights=\"IMAGENET1K_V1\")\n",
        "print(squeezenet)"
      ]
    },
    {
      "cell_type": "markdown",
      "id": "4670e23c",
      "metadata": {
        "id": "4670e23c"
      },
      "source": [
        "SqueezeNet is organised into two main parts:\n",
        "\n",
        "* Features – the convolutional backbone that extracts features.\n",
        "\n",
        "* Classifier – the final layers that map features to class scores (1000 for ImageNet).\n",
        "\n",
        "The flow of data through the network is as follows:\n",
        "\n",
        "Input → features (series of conv, ReLU, pooling, Fire modules) → classifier (dropout, 1×1 conv, ReLU, global avg pool) → logits.\n",
        "\n",
        "Note: Fire modules are the building blocks of SqueezeNet. Each Fire block has:\n",
        "\n",
        "* Squeeze layer: a 1×1 convolution that reduces the number of channels (\"squeezes\" the representation).\n",
        "* Expand layers: two parallel convs – one 1×1 and one 3×3 (with padding=1 so the output size matches).\n",
        "* The outputs of expand1×1 and expand3×3 are concatenated along the channel dimension.\n",
        "example:\n",
        "\n",
        "- Input: 3 channels\n",
        "- Squeeze: 16 channels\n",
        "- Expand1x1: 64 channels\n",
        "- Expand3x3: 64 channels\n",
        "- Output: 128 channels\n",
        "\n",
        "\n",
        "\n"
      ]
    },
    {
      "cell_type": "markdown",
      "id": "f06e92b5",
      "metadata": {
        "id": "f06e92b5"
      },
      "source": [
        "**Q3)** The images in the CIFAR-10 dataset are 32×32 pixels, whereas the images used to train ImageNet models are 224×224 pixels. To apply a pretrained model such as SqueezeNet, we have two options:\n",
        "\n",
        "1. Resize the CIFAR-10 images to 224×224.\n",
        "2. Modify the pretrained model so that it can operate directly on 32×32 inputs.\n",
        "\n",
        "Resizing is straightforward but computationally more expensive and may blur small images, making training harder. A more efficient approach is to adjust the architecture of SqueezeNet so that it preserves more spatial detail when working with 32×32 inputs.\n",
        "\n",
        "In the cell below, modify squeeznet's architecture in the following ways:\n",
        "\n",
        "- Change the **stride** of the first convolutional layer to 1 (layer index 0).\n",
        "- Change the **padding** of the first convolutional layer to 1 (level 0)\n",
        "- Remove the first max-pool layer (layer index 2) by replacing it with `nn.Identity()`\n",
        "\n",
        "The syntax for modifying the network is as follows:\n",
        "\n",
        "```python\n",
        "# change an attribute\n",
        "model.features[level].attribute = new_value  \n",
        "\n",
        "# replace an entire layer\n",
        "model.features[level] = nn.NewLayerType(args)\n",
        "```\n"
      ]
    },
    {
      "cell_type": "code",
      "execution_count": 32,
      "id": "463fc9c5",
      "metadata": {
        "id": "463fc9c5"
      },
      "outputs": [],
      "source": [
        "\n",
        "squeezenet.features[0].stride = (1, 1)\n",
        "squeezenet.features[0].padding = (1, 1)\n",
        "squeezenet.features[2] = nn.Identity()\n"
      ]
    },
    {
      "cell_type": "markdown",
      "id": "6f483328",
      "metadata": {
        "id": "6f483328"
      },
      "source": [
        "**Q4)** The original SqueezeNet model was trained on ImageNet, which has 1,000 output classes. Since CIFAR-10 has only 10 classes, we need to replace the final classifier layer so that the network outputs 10 logits instead of 1,000.\n",
        "\n",
        "In the cell below, modify the classifier with a new layer that maps from `in_channels = 512` to `out_channels = 10`. Also update the `num_classes` attribute of the model.\n",
        "\n",
        "```python\n",
        "# replace an entire layer\n",
        "model.features[level] = nn.NewLayerType(args)\n",
        "```"
      ]
    },
    {
      "cell_type": "code",
      "execution_count": 33,
      "id": "a39a7a2d",
      "metadata": {
        "id": "a39a7a2d"
      },
      "outputs": [],
      "source": [
        "label_size = 10\n",
        "\n",
        "squeezenet.classifier[1] = nn.Conv2d(\n",
        "        in_channels=512,\n",
        "        out_channels=label_size,\n",
        "        kernel_size=1,\n",
        "        bias=True)\n",
        "\n",
        "squeezenet.num_classes = label_size\n"
      ]
    },
    {
      "cell_type": "markdown",
      "id": "2b99b25d",
      "metadata": {
        "id": "2b99b25d"
      },
      "source": [
        "For the purposes of this practical, we will freeze the backbone of the SqueezeNet model and only train the head. Freezing the backbone reduces backprop computation because gradients aren’t calculated for those layers and is standard practice when using transfer learning."
      ]
    },
    {
      "cell_type": "code",
      "execution_count": 34,
      "id": "6e8fa6a3",
      "metadata": {
        "id": "6e8fa6a3"
      },
      "outputs": [],
      "source": [
        "# Freeze backbone\n",
        "for p in squeezenet.features.parameters():\n",
        "    p.requires_grad = False"
      ]
    },
    {
      "cell_type": "markdown",
      "id": "c20599be",
      "metadata": {
        "id": "c20599be"
      },
      "source": [
        "**Q5)** In the current setup all layers of the SqueezeNet model are frozen, meaning no parameters will be updated during training. To allow learning, we need to unfreeze the classifier layer so that its parameters can be optimised. In the cell below, unfreeze the classifier layer (located in classifier at index 1) using code similar to that in the previous cell."
      ]
    },
    {
      "cell_type": "code",
      "execution_count": 35,
      "id": "3056890f",
      "metadata": {
        "id": "3056890f"
      },
      "outputs": [],
      "source": [
        "\n",
        "for p in squeezenet.classifier[1].parameters():\n",
        "    p.requires_grad = True\n"
      ]
    },
    {
      "cell_type": "markdown",
      "id": "cee5b094",
      "metadata": {
        "id": "cee5b094"
      },
      "source": [
        "We are now ready to train the model. In the cell below, we will define the loss function and optimizer, and then train the model for a few epochs. We will only train the new head of the model, as the rest of the model is frozen. We will also use a smaller learning rate and a smaller weight decay (L2 regularisation).\n",
        "\n",
        "* A smaller learning rate helps prevent large updates that could destabilise training when starting from pretrained weights, ensuring that the network adapts gradually rather than overwriting useful representations.\n",
        "\n",
        "* A smaller weight decay avoids overly strong regularisation on pretrained parameters, which could otherwise push them away from the values learned on ImageNet that already encode useful general features."
      ]
    },
    {
      "cell_type": "code",
      "source": [
        "\n",
        "# check for GPU and run on the GPU if available using device\n",
        "\n",
        "device = torch.device(\"cuda\" if torch.cuda.is_available() else \"cpu\")\n",
        "squeezenet.to(device)\n"
      ],
      "metadata": {
        "colab": {
          "base_uri": "https://localhost:8080/"
        },
        "id": "g3GltGzDB6BN",
        "outputId": "5a2d9dbf-98eb-4ecb-fee7-a4341ecf8194"
      },
      "id": "g3GltGzDB6BN",
      "execution_count": 36,
      "outputs": [
        {
          "output_type": "execute_result",
          "data": {
            "text/plain": [
              "SqueezeNet(\n",
              "  (features): Sequential(\n",
              "    (0): Conv2d(3, 64, kernel_size=(3, 3), stride=(1, 1), padding=(1, 1))\n",
              "    (1): ReLU(inplace=True)\n",
              "    (2): Identity()\n",
              "    (3): Fire(\n",
              "      (squeeze): Conv2d(64, 16, kernel_size=(1, 1), stride=(1, 1))\n",
              "      (squeeze_activation): ReLU(inplace=True)\n",
              "      (expand1x1): Conv2d(16, 64, kernel_size=(1, 1), stride=(1, 1))\n",
              "      (expand1x1_activation): ReLU(inplace=True)\n",
              "      (expand3x3): Conv2d(16, 64, kernel_size=(3, 3), stride=(1, 1), padding=(1, 1))\n",
              "      (expand3x3_activation): ReLU(inplace=True)\n",
              "    )\n",
              "    (4): Fire(\n",
              "      (squeeze): Conv2d(128, 16, kernel_size=(1, 1), stride=(1, 1))\n",
              "      (squeeze_activation): ReLU(inplace=True)\n",
              "      (expand1x1): Conv2d(16, 64, kernel_size=(1, 1), stride=(1, 1))\n",
              "      (expand1x1_activation): ReLU(inplace=True)\n",
              "      (expand3x3): Conv2d(16, 64, kernel_size=(3, 3), stride=(1, 1), padding=(1, 1))\n",
              "      (expand3x3_activation): ReLU(inplace=True)\n",
              "    )\n",
              "    (5): MaxPool2d(kernel_size=3, stride=2, padding=0, dilation=1, ceil_mode=True)\n",
              "    (6): Fire(\n",
              "      (squeeze): Conv2d(128, 32, kernel_size=(1, 1), stride=(1, 1))\n",
              "      (squeeze_activation): ReLU(inplace=True)\n",
              "      (expand1x1): Conv2d(32, 128, kernel_size=(1, 1), stride=(1, 1))\n",
              "      (expand1x1_activation): ReLU(inplace=True)\n",
              "      (expand3x3): Conv2d(32, 128, kernel_size=(3, 3), stride=(1, 1), padding=(1, 1))\n",
              "      (expand3x3_activation): ReLU(inplace=True)\n",
              "    )\n",
              "    (7): Fire(\n",
              "      (squeeze): Conv2d(256, 32, kernel_size=(1, 1), stride=(1, 1))\n",
              "      (squeeze_activation): ReLU(inplace=True)\n",
              "      (expand1x1): Conv2d(32, 128, kernel_size=(1, 1), stride=(1, 1))\n",
              "      (expand1x1_activation): ReLU(inplace=True)\n",
              "      (expand3x3): Conv2d(32, 128, kernel_size=(3, 3), stride=(1, 1), padding=(1, 1))\n",
              "      (expand3x3_activation): ReLU(inplace=True)\n",
              "    )\n",
              "    (8): MaxPool2d(kernel_size=3, stride=2, padding=0, dilation=1, ceil_mode=True)\n",
              "    (9): Fire(\n",
              "      (squeeze): Conv2d(256, 48, kernel_size=(1, 1), stride=(1, 1))\n",
              "      (squeeze_activation): ReLU(inplace=True)\n",
              "      (expand1x1): Conv2d(48, 192, kernel_size=(1, 1), stride=(1, 1))\n",
              "      (expand1x1_activation): ReLU(inplace=True)\n",
              "      (expand3x3): Conv2d(48, 192, kernel_size=(3, 3), stride=(1, 1), padding=(1, 1))\n",
              "      (expand3x3_activation): ReLU(inplace=True)\n",
              "    )\n",
              "    (10): Fire(\n",
              "      (squeeze): Conv2d(384, 48, kernel_size=(1, 1), stride=(1, 1))\n",
              "      (squeeze_activation): ReLU(inplace=True)\n",
              "      (expand1x1): Conv2d(48, 192, kernel_size=(1, 1), stride=(1, 1))\n",
              "      (expand1x1_activation): ReLU(inplace=True)\n",
              "      (expand3x3): Conv2d(48, 192, kernel_size=(3, 3), stride=(1, 1), padding=(1, 1))\n",
              "      (expand3x3_activation): ReLU(inplace=True)\n",
              "    )\n",
              "    (11): Fire(\n",
              "      (squeeze): Conv2d(384, 64, kernel_size=(1, 1), stride=(1, 1))\n",
              "      (squeeze_activation): ReLU(inplace=True)\n",
              "      (expand1x1): Conv2d(64, 256, kernel_size=(1, 1), stride=(1, 1))\n",
              "      (expand1x1_activation): ReLU(inplace=True)\n",
              "      (expand3x3): Conv2d(64, 256, kernel_size=(3, 3), stride=(1, 1), padding=(1, 1))\n",
              "      (expand3x3_activation): ReLU(inplace=True)\n",
              "    )\n",
              "    (12): Fire(\n",
              "      (squeeze): Conv2d(512, 64, kernel_size=(1, 1), stride=(1, 1))\n",
              "      (squeeze_activation): ReLU(inplace=True)\n",
              "      (expand1x1): Conv2d(64, 256, kernel_size=(1, 1), stride=(1, 1))\n",
              "      (expand1x1_activation): ReLU(inplace=True)\n",
              "      (expand3x3): Conv2d(64, 256, kernel_size=(3, 3), stride=(1, 1), padding=(1, 1))\n",
              "      (expand3x3_activation): ReLU(inplace=True)\n",
              "    )\n",
              "  )\n",
              "  (classifier): Sequential(\n",
              "    (0): Dropout(p=0.5, inplace=False)\n",
              "    (1): Conv2d(512, 10, kernel_size=(1, 1), stride=(1, 1))\n",
              "    (2): ReLU(inplace=True)\n",
              "    (3): AdaptiveAvgPool2d(output_size=(1, 1))\n",
              "  )\n",
              ")"
            ]
          },
          "metadata": {},
          "execution_count": 36
        }
      ]
    },
    {
      "cell_type": "code",
      "source": [
        "# check what device we have\n",
        "\n",
        "device"
      ],
      "metadata": {
        "colab": {
          "base_uri": "https://localhost:8080/"
        },
        "id": "OoW1KR_MCMv-",
        "outputId": "110c6dcb-52ae-471c-edca-ee0b4e03e53b"
      },
      "id": "OoW1KR_MCMv-",
      "execution_count": 37,
      "outputs": [
        {
          "output_type": "execute_result",
          "data": {
            "text/plain": [
              "device(type='cuda')"
            ]
          },
          "metadata": {},
          "execution_count": 37
        }
      ]
    },
    {
      "cell_type": "code",
      "execution_count": 38,
      "id": "a5875dc8",
      "metadata": {
        "colab": {
          "base_uri": "https://localhost:8080/"
        },
        "id": "a5875dc8",
        "outputId": "c8616218-057c-4923-8861-69c55bea44a5"
      },
      "outputs": [
        {
          "output_type": "stream",
          "name": "stderr",
          "text": [
            "Epoch 1: 100%|██████████| 40/40 [00:02<00:00, 18.60it/s]\n"
          ]
        },
        {
          "output_type": "stream",
          "name": "stdout",
          "text": [
            "Epoch 1: loss=1.7059, acc=0.4136\n"
          ]
        },
        {
          "output_type": "stream",
          "name": "stderr",
          "text": [
            "Epoch 2: 100%|██████████| 40/40 [00:01<00:00, 23.55it/s]\n"
          ]
        },
        {
          "output_type": "stream",
          "name": "stdout",
          "text": [
            "Epoch 2: loss=1.1150, acc=0.6150\n"
          ]
        },
        {
          "output_type": "stream",
          "name": "stderr",
          "text": [
            "Epoch 3: 100%|██████████| 40/40 [00:01<00:00, 22.51it/s]\n"
          ]
        },
        {
          "output_type": "stream",
          "name": "stdout",
          "text": [
            "Epoch 3: loss=0.9455, acc=0.6702\n"
          ]
        },
        {
          "output_type": "stream",
          "name": "stderr",
          "text": [
            "Epoch 4: 100%|██████████| 40/40 [00:01<00:00, 23.04it/s]\n"
          ]
        },
        {
          "output_type": "stream",
          "name": "stdout",
          "text": [
            "Epoch 4: loss=0.8505, acc=0.7054\n"
          ]
        },
        {
          "output_type": "stream",
          "name": "stderr",
          "text": [
            "Epoch 5: 100%|██████████| 40/40 [00:02<00:00, 19.97it/s]\n"
          ]
        },
        {
          "output_type": "stream",
          "name": "stdout",
          "text": [
            "Epoch 5: loss=0.8167, acc=0.7154\n"
          ]
        },
        {
          "output_type": "stream",
          "name": "stderr",
          "text": [
            "Epoch 6: 100%|██████████| 40/40 [00:01<00:00, 20.23it/s]\n"
          ]
        },
        {
          "output_type": "stream",
          "name": "stdout",
          "text": [
            "Epoch 6: loss=0.7799, acc=0.7248\n"
          ]
        },
        {
          "output_type": "stream",
          "name": "stderr",
          "text": [
            "Epoch 7: 100%|██████████| 40/40 [00:01<00:00, 21.93it/s]\n"
          ]
        },
        {
          "output_type": "stream",
          "name": "stdout",
          "text": [
            "Epoch 7: loss=0.7415, acc=0.7422\n"
          ]
        },
        {
          "output_type": "stream",
          "name": "stderr",
          "text": [
            "Epoch 8: 100%|██████████| 40/40 [00:01<00:00, 23.07it/s]\n"
          ]
        },
        {
          "output_type": "stream",
          "name": "stdout",
          "text": [
            "Epoch 8: loss=0.7214, acc=0.7432\n"
          ]
        },
        {
          "output_type": "stream",
          "name": "stderr",
          "text": [
            "Epoch 9: 100%|██████████| 40/40 [00:01<00:00, 23.55it/s]\n"
          ]
        },
        {
          "output_type": "stream",
          "name": "stdout",
          "text": [
            "Epoch 9: loss=0.6919, acc=0.7544\n"
          ]
        },
        {
          "output_type": "stream",
          "name": "stderr",
          "text": [
            "Epoch 10: 100%|██████████| 40/40 [00:01<00:00, 23.53it/s]"
          ]
        },
        {
          "output_type": "stream",
          "name": "stdout",
          "text": [
            "Epoch 10: loss=0.6775, acc=0.7678\n"
          ]
        },
        {
          "output_type": "stream",
          "name": "stderr",
          "text": [
            "\n"
          ]
        }
      ],
      "source": [
        "# Loss + optimizer (only trainable params)\n",
        "criterion = nn.CrossEntropyLoss().to(device)\n",
        "\n",
        "# Train only the new head with AdamW\n",
        "optimizer = torch.optim.AdamW(\n",
        "    squeezenet.classifier[1].parameters(),  # just the head\n",
        "    lr=1e-3,\n",
        "    weight_decay=1e-4\n",
        ")\n",
        "\n",
        "num_epochs = 10   #  original code says 3 - this is running now on GPU (CUDA) so tried 10!!\n",
        "\n",
        "train_losses, train_accuracies = [], []\n",
        "\n",
        "squeezenet.train().to(device)\n",
        "\n",
        "\n",
        "for epoch in range(num_epochs):   # one epoch only\n",
        "\n",
        "    running_loss, correct, total = 0.0, 0, 0\n",
        "\n",
        "    for images, labels in tqdm(train_loader, desc=f\"Epoch {epoch+1}\"):\n",
        "\n",
        "        # Move images and labels to the device (GPU if available)\n",
        "        images, labels = images.to(device), labels.to(device)\n",
        "\n",
        "        optimizer.zero_grad()\n",
        "        outputs = squeezenet(images)\n",
        "        loss = criterion(outputs, labels)\n",
        "        loss.backward()\n",
        "        optimizer.step()\n",
        "\n",
        "        running_loss += loss.item() * images.size(0)\n",
        "        _, preds = outputs.max(1)\n",
        "        correct += (preds == labels).sum().item()\n",
        "        total += labels.size(0)\n",
        "\n",
        "    epoch_loss = running_loss / total\n",
        "    epoch_acc = correct / total\n",
        "    train_losses.append(epoch_loss)\n",
        "    train_accuracies.append(epoch_acc)\n",
        "    print(f\"Epoch {epoch+1}: loss={epoch_loss:.4f}, acc={epoch_acc:.4f}\")"
      ]
    },
    {
      "cell_type": "markdown",
      "id": "985d63e4",
      "metadata": {
        "id": "985d63e4"
      },
      "source": [
        "After only 3 epochs are model is doing better than our previous model. Lets see take a look at the training curves."
      ]
    },
    {
      "cell_type": "code",
      "execution_count": 39,
      "id": "a9d687f5",
      "metadata": {
        "vscode": {
          "languageId": "plaintext"
        },
        "colab": {
          "base_uri": "https://localhost:8080/",
          "height": 407
        },
        "id": "a9d687f5",
        "outputId": "e0eb3857-fe0f-452b-dc0c-92f991349033"
      },
      "outputs": [
        {
          "output_type": "display_data",
          "data": {
            "text/plain": [
              "<Figure size 1000x400 with 2 Axes>"
            ],
            "image/png": "[encoded data removed]"
          },
          "metadata": {}
        }
      ],
      "source": [
        "# Plot training loss and accuracy\n",
        "plt.figure(figsize=(10,4))\n",
        "plt.subplot(1,2,1)\n",
        "plt.plot(range(1, num_epochs+1), train_losses, marker='o')\n",
        "plt.xlabel('Epoch'); plt.ylabel('Loss'); plt.title('Training Loss')\n",
        "plt.subplot(1,2,2)\n",
        "plt.plot(range(1, num_epochs+1), train_accuracies, marker='o')\n",
        "plt.xlabel('Epoch'); plt.ylabel('Accuracy'); plt.title('Training Accuracy')\n",
        "plt.tight_layout()\n",
        "plt.show()"
      ]
    },
    {
      "cell_type": "markdown",
      "id": "c74c0e69",
      "metadata": {
        "id": "c74c0e69"
      },
      "source": [
        "Although we only trained for 3 epochs, we can see that the model is already learning and the accuracy is increasing. Run the code below to evaluate the model on the test set."
      ]
    },
    {
      "cell_type": "code",
      "execution_count": 40,
      "id": "da21253e",
      "metadata": {
        "colab": {
          "base_uri": "https://localhost:8080/"
        },
        "id": "da21253e",
        "outputId": "990e177f-b329-43e7-8c46-ecf3f118999f"
      },
      "outputs": [
        {
          "output_type": "stream",
          "name": "stdout",
          "text": [
            "Test accuracy: 0.7220\n"
          ]
        }
      ],
      "source": [
        "squeezenet.eval().to(device)\n",
        "correct, total = 0, 0\n",
        "all_preds, all_labels = [], []\n",
        "with torch.no_grad():\n",
        "    for images, labels in test_loader:\n",
        "        # Move images and labels to the device\n",
        "        images, labels = images.to(device), labels.to(device)\n",
        "        outputs = squeezenet(images)\n",
        "        _, preds = outputs.max(1)\n",
        "        correct += (preds == labels).sum().item()\n",
        "        total += labels.size(0)\n",
        "        all_preds.extend(preds.cpu().numpy())\n",
        "        all_labels.extend(labels.cpu().numpy())\n",
        "\n",
        "print(f'Test accuracy: {correct / total:.4f}')"
      ]
    },
    {
      "cell_type": "markdown",
      "id": "241b378a",
      "metadata": {
        "id": "241b378a"
      },
      "source": [
        "Not bad for a model that was trained for only 3 epochs! Finally, take a look at the confusion matrix to see how the model is performing on each class."
      ]
    },
    {
      "cell_type": "code",
      "execution_count": 41,
      "id": "5b82c90f",
      "metadata": {
        "colab": {
          "base_uri": "https://localhost:8080/",
          "height": 783
        },
        "id": "5b82c90f",
        "outputId": "53e8e51e-38e9-48c5-c813-9561caeaefc6"
      },
      "outputs": [
        {
          "output_type": "display_data",
          "data": {
            "text/plain": [
              "<Figure size 1000x800 with 2 Axes>"
            ],
            "image/png": "[encoded data removed]"
          },
          "metadata": {}
        }
      ],
      "source": [
        "from sklearn.metrics import confusion_matrix\n",
        "import seaborn as sns\n",
        "\n",
        "# Plot confusion matrix\n",
        "cm = confusion_matrix(all_labels, all_preds)\n",
        "plt.figure(figsize=(10, 8))\n",
        "sns.heatmap(cm, annot=True, fmt='d', cmap='Blues',\n",
        "            xticklabels=class_names, yticklabels=class_names)\n",
        "plt.title('Confusion Matrix')\n",
        "plt.xlabel('Predicted')\n",
        "plt.ylabel('Actual')\n",
        "plt.show()"
      ]
    },
    {
      "cell_type": "markdown",
      "id": "ae313df0",
      "metadata": {
        "id": "ae313df0"
      },
      "source": [
        "Do you notice anything about the confusion matrix that could explain why the model is performing well on some classes and not others?"
      ]
    }
  ],
  "metadata": {
    "kernelspec": {
      "display_name": "Python 3",
      "name": "python3"
    },
    "language_info": {
      "codemirror_mode": {
        "name": "ipython",
        "version": 3
      },
      "file_extension": ".py",
      "mimetype": "text/x-python",
      "name": "python",
      "nbconvert_exporter": "python",
      "pygments_lexer": "ipython3",
      "version": "3.11.13"
    },
    "colab": {
      "provenance": [],
      "gpuType": "T4",
      "include_colab_link": true
    },
    "accelerator": "GPU"
  },
  "nbformat": 4,
  "nbformat_minor": 5
}